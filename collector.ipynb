{
 "cells": [
  {
   "cell_type": "code",
   "execution_count": 2,
   "metadata": {
    "scrolled": true
   },
   "outputs": [
    {
     "name": "stdout",
     "output_type": "stream",
     "text": [
      "For retrieving ex-right & ex-dividend information, enter the stock number in 4 digits: 1234\n",
      "Exported csv successfully!\n",
      "\n",
      "Press any key to exit...\n"
     ]
    },
    {
     "data": {
      "text/plain": [
       "''"
      ]
     },
     "execution_count": 2,
     "metadata": {},
     "output_type": "execute_result"
    }
   ],
   "source": [
    "# Chuck C. Chao | oahccc@gmail.com"
    "# License https://github.com/oahccc/goodinfo.tw-info-collector"
    "# -*- coding: cp950 -*-  \n",
    "import requests\n",
    "from bs4 import BeautifulSoup\n",
    "import os\n",
    "\n",
    "# Request HTML information\n",
    "a = input('For retrieving ex-right & ex-dividend information, enter the stock number in 4 digits: ')\n",
    "\n",
    "session = requests.Session()\n",
    "headers = {\"User-Agent\":\"Mozilla/5.0 (Windows NT 10.0; Win64; x64) AppleWebKit/537.36 (KHTML, like Gecko) Chrome/63.0.3239.84 Safari/537.36\"}\n",
    "url = \"https://goodinfo.tw/StockInfo/StockDividendSchedule.asp?STOCK_ID={}\".format(a)\n",
    "req = session.get(url, headers=headers)\n",
    "req.encoding = 'utf-8'\n",
    "\n",
    "# Pull data out of HTML\n",
    "soup = BeautifulSoup(req.text, 'html.parser')\n",
    "stock_title = soup.select(\"title\")[0].text\n",
    "\n",
    "if not soup.select(\"#divDetail\"):\n",
    "    print(\"The stock you entered has no such information.\")\n",
    "\n",
    "else:\n",
    "    tabledatasaved = \"\"\n",
    "    for data in soup.select(\"#divDetail\"):\n",
    "        for data_tr in data.find_all('tr'):\n",
    "            tabledata = \"\"\n",
    "            for data_td in data_tr.find_all('td'):\n",
    "                tabledata = tabledata + \",\" + data_td.text\n",
    "            tabledatasaved = tabledatasaved + \"\\n\" + tabledata[1:]\n",
    "    \n",
    "    # Write to a csv file\n",
    "    with open(os.path.expanduser(\"{}.csv\").format(stock_title[:10]),\"wb\") as file:\n",
    "        file.write(bytes(tabledatasaved[120:], encoding='utf-8', errors='ignore'))\n",
    "    \n",
    "    print(\"Exported csv successfully!\".format(stock_title[:10]))\n",
    "    \n",
    "input(\"\\nPress any key to exit...\")\n"
   ]
  },
  {
   "cell_type": "code",
   "execution_count": null,
   "metadata": {},
   "outputs": [],
   "source": []
  },
  {
   "cell_type": "code",
   "execution_count": null,
   "metadata": {},
   "outputs": [],
   "source": []
  },
  {
   "cell_type": "code",
   "execution_count": null,
   "metadata": {},
   "outputs": [],
   "source": []
  }
 ],
 "metadata": {
  "kernelspec": {
   "display_name": "Python 3",
   "language": "python",
   "name": "python3"
  },
  "language_info": {
   "codemirror_mode": {
    "name": "ipython",
    "version": 3
   },
   "file_extension": ".py",
   "mimetype": "text/x-python",
   "name": "python",
   "nbconvert_exporter": "python",
   "pygments_lexer": "ipython3",
   "version": "3.5.4"
  }
 },
 "nbformat": 4,
 "nbformat_minor": 2
}
